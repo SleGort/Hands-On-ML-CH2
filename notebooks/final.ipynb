{
 "cells": [
  {
   "cell_type": "code",
   "execution_count": 1,
   "metadata": {},
   "outputs": [],
   "source": [
    "import os\n",
    "import sys\n",
    "\n",
    "sys.path.append(os.path.dirname(os.getcwd()))\n",
    "from src import config\n",
    "from src.dataset import load_housing_data\n",
    "\n",
    "housing = load_housing_data(config.PATH_DATA_RAW / \"housing.csv\")"
   ]
  },
  {
   "cell_type": "code",
   "execution_count": 2,
   "metadata": {},
   "outputs": [
    {
     "data": {
      "text/plain": [
       "array(['NEAR BAY', '<1H OCEAN', 'INLAND', 'NEAR OCEAN', 'ISLAND'],\n",
       "      dtype=object)"
      ]
     },
     "execution_count": 2,
     "metadata": {},
     "output_type": "execute_result"
    }
   ],
   "source": [
    "housing[\"ocean_proximity\"].unique()"
   ]
  },
  {
   "cell_type": "code",
   "execution_count": 3,
   "metadata": {},
   "outputs": [],
   "source": [
    "import numpy as np\n",
    "import pandas as pd\n",
    "\n",
    "housing[\"income_cat\"] = pd.cut(\n",
    "    housing[\"median_income\"],\n",
    "    bins=[0.0, 1.5, 3.0, 4.5, 6.0, np.inf],\n",
    "    labels=[1, 2, 3, 4, 5],\n",
    ")"
   ]
  },
  {
   "cell_type": "code",
   "execution_count": 4,
   "metadata": {},
   "outputs": [],
   "source": [
    "from sklearn.model_selection import StratifiedShuffleSplit\n",
    "\n",
    "seed = config.RANDOM_SEED = 42\n",
    "test_size = config.TEST_SIZE = 0.2\n",
    "\n",
    "split = StratifiedShuffleSplit(n_splits=1, test_size=test_size, random_state=seed)\n",
    "for train_index, test_index in split.split(housing, housing[\"income_cat\"]):\n",
    "    strat_train_set = housing.loc[train_index]\n",
    "    strat_test_set = housing.loc[test_index]"
   ]
  },
  {
   "cell_type": "code",
   "execution_count": 5,
   "metadata": {},
   "outputs": [],
   "source": [
    "for set_ in (strat_train_set, strat_test_set):\n",
    "    set_.drop(\"income_cat\", axis=1, inplace=True)"
   ]
  },
  {
   "cell_type": "code",
   "execution_count": 6,
   "metadata": {},
   "outputs": [],
   "source": [
    "housing_stratified = strat_train_set.copy()\n",
    "\n",
    "quirk_values = [500001, 500000, 450000, 350000, 280000]\n",
    "\n",
    "# Filter the DataFrame to remove rows with these quirk values\n",
    "# ? ~ This is the logical NOT operator, which inverts the boolean values,\n",
    "# ? so it selects rows where median_house_value is NOT in quirk_values.\n",
    "housing_filtered = housing_stratified[\n",
    "    ~housing_stratified[\"median_house_value\"].isin(quirk_values)\n",
    "]"
   ]
  },
  {
   "cell_type": "code",
   "execution_count": 7,
   "metadata": {},
   "outputs": [],
   "source": [
    "X_train = housing_stratified.drop(\"median_house_value\", axis=1).copy()\n",
    "y_train = housing_stratified[\"median_house_value\"].copy()\n",
    "\n",
    "X_test = strat_test_set.drop(\"median_house_value\", axis=1).copy()\n",
    "y_test = strat_test_set[\"median_house_value\"].copy()\n",
    "\n",
    "X_num = X_train.drop(\"ocean_proximity\", axis=1)"
   ]
  },
  {
   "cell_type": "code",
   "execution_count": 8,
   "metadata": {},
   "outputs": [
    {
     "name": "stdout",
     "output_type": "stream",
     "text": [
      "ocean_proximity\n",
      "<1H OCEAN     7277\n",
      "INLAND        5262\n",
      "NEAR OCEAN    2124\n",
      "NEAR BAY      1847\n",
      "ISLAND           2\n",
      "Name: count, dtype: int64 ['INLAND' 'NEAR OCEAN' '<1H OCEAN' 'NEAR BAY' 'ISLAND']\n"
     ]
    }
   ],
   "source": [
    "print(X_train[\"ocean_proximity\"].value_counts(), X_train[\"ocean_proximity\"].unique())"
   ]
  },
  {
   "cell_type": "code",
   "execution_count": 9,
   "metadata": {},
   "outputs": [],
   "source": [
    "from sklearn.base import BaseEstimator, TransformerMixin\n",
    "\n",
    "\n",
    "class CombinedAttributesAdder(BaseEstimator, TransformerMixin):\n",
    "    def __init__(\n",
    "        self, add_bedrooms_per_room=True, columns=None\n",
    "    ):  # Adding columns as an argument\n",
    "        self.add_bedrooms_per_room = add_bedrooms_per_room\n",
    "        self.columns = columns\n",
    "\n",
    "    def fit(self, X, y=None):\n",
    "        if self.columns is not None:\n",
    "            self.rooms_ix = self.columns.index(\"total_rooms\")\n",
    "            self.bedrooms_ix = self.columns.index(\"total_bedrooms\")\n",
    "            self.population_ix = self.columns.index(\"population\")\n",
    "            self.households_ix = self.columns.index(\"households\")\n",
    "        return self  # nothing else to do\n",
    "\n",
    "    def transform(self, X, y=None):\n",
    "        rooms_per_household = X[:, self.rooms_ix] / X[:, self.households_ix]\n",
    "        population_per_household = X[:, self.population_ix] / X[:, self.households_ix]\n",
    "        if self.add_bedrooms_per_room:\n",
    "            bedrooms_per_room = X[:, self.bedrooms_ix] / X[:, self.rooms_ix]\n",
    "            return np.c_[\n",
    "                X, rooms_per_household, population_per_household, bedrooms_per_room\n",
    "            ]\n",
    "        else:\n",
    "            return np.c_[X, rooms_per_household, population_per_household]"
   ]
  },
  {
   "cell_type": "code",
   "execution_count": 10,
   "metadata": {},
   "outputs": [],
   "source": [
    "from sklearn.tree import DecisionTreeRegressor\n",
    "\n",
    "\n",
    "class ImportantAttributesSelector(BaseEstimator, TransformerMixin):\n",
    "    def __init__(self, count):\n",
    "        self.count = count\n",
    "        self.feature_importances_ = None\n",
    "        self.selected_indices_ = None\n",
    "\n",
    "    def fit(self, X, y=None):\n",
    "        tree_reg = DecisionTreeRegressor(random_state=seed)\n",
    "        tree_reg.fit(X, y)\n",
    "        self.feature_importances_ = tree_reg.feature_importances_\n",
    "        # * The np.argsort reutrns a list of indicies in ascending order ( so the highest value is in the last place)\n",
    "        self.selected_indices_ = np.argsort(self.feature_importances_)[-self.count :]\n",
    "        return self\n",
    "\n",
    "    def transform(self, X, y=None):\n",
    "        return X[:, self.selected_indices_]"
   ]
  },
  {
   "cell_type": "code",
   "execution_count": 11,
   "metadata": {},
   "outputs": [],
   "source": [
    "from sklearn.pipeline import Pipeline\n",
    "from sklearn.preprocessing import StandardScaler\n",
    "from sklearn.impute import SimpleImputer\n",
    "\n",
    "col_names = list(X_num)\n",
    "\n",
    "num_pipeline = Pipeline(\n",
    "    [\n",
    "        (\"imputer\", SimpleImputer(strategy=\"median\")),\n",
    "        (\"attribs_adder\", CombinedAttributesAdder(columns=col_names)),\n",
    "        (\"std_scaler\", StandardScaler()),\n",
    "    ]\n",
    ")"
   ]
  },
  {
   "cell_type": "code",
   "execution_count": 12,
   "metadata": {},
   "outputs": [],
   "source": [
    "from sklearn.compose import ColumnTransformer\n",
    "from sklearn.preprocessing import OneHotEncoder\n",
    "\n",
    "num_attribs = list(X_num)\n",
    "cat_attribs = [\"ocean_proximity\"]\n",
    "known_categories = [[\"<1H OCEAN\", \"INLAND\", \"NEAR OCEAN\", \"NEAR BAY\", \"ISLAND\"]]\n",
    "full_pipeline = ColumnTransformer(\n",
    "    [\n",
    "        (\"num\", num_pipeline, num_attribs),\n",
    "        (\n",
    "            \"cat\",\n",
    "            OneHotEncoder(handle_unknown=\"ignore\", categories=known_categories),\n",
    "            cat_attribs,\n",
    "        ),\n",
    "    ]\n",
    ")"
   ]
  },
  {
   "cell_type": "code",
   "execution_count": 13,
   "metadata": {},
   "outputs": [
    {
     "name": "stdout",
     "output_type": "stream",
     "text": [
      "Training categories in 'ocean_proximity':\n",
      "['INLAND' 'NEAR OCEAN' '<1H OCEAN' 'NEAR BAY' 'ISLAND']\n"
     ]
    }
   ],
   "source": [
    "print(\"Training categories in 'ocean_proximity':\")\n",
    "print(X_train[\"ocean_proximity\"].unique())"
   ]
  },
  {
   "cell_type": "code",
   "execution_count": 14,
   "metadata": {},
   "outputs": [],
   "source": [
    "from sklearn.ensemble import RandomForestRegressor\n",
    "\n",
    "final_pipeline = Pipeline(\n",
    "    [\n",
    "        (\"preparation\", full_pipeline),\n",
    "        (\"feature_selection\", ImportantAttributesSelector(count=6)),\n",
    "        (\n",
    "            \"regressor\",\n",
    "            RandomForestRegressor(random_state=42),\n",
    "        ),\n",
    "    ]\n",
    ")"
   ]
  },
  {
   "cell_type": "code",
   "execution_count": 15,
   "metadata": {},
   "outputs": [
    {
     "name": "stdout",
     "output_type": "stream",
     "text": [
      "Best parameters found by GridSearchCV:\n",
      "{'feature_selection__count': 8, 'preparation__num__attribs_adder__add_bedrooms_per_room': False, 'regressor__max_features': 4, 'regressor__n_estimators': 100}\n"
     ]
    }
   ],
   "source": [
    "from sklearn.model_selection import GridSearchCV\n",
    "\n",
    "param_grid = {\n",
    "    # Number of features to select\n",
    "    \"feature_selection__count\": [4, 6, 8],\n",
    "    \"preparation__num__attribs_adder__add_bedrooms_per_room\": [True, False],\n",
    "    # RandomForestRegressor parameters\n",
    "    \"regressor__n_estimators\": [10, 50, 100],\n",
    "    \"regressor__max_features\": [4, 6, 8],\n",
    "}\n",
    "\n",
    "grid_pipeline = GridSearchCV(\n",
    "    final_pipeline, param_grid=param_grid, cv=5, scoring=\"neg_mean_squared_error\"\n",
    ")\n",
    "grid_pipeline.fit(X_train, y_train)\n",
    "\n",
    "# Get the best parameters\n",
    "print(\"Best parameters found by GridSearchCV:\")\n",
    "print(grid_pipeline.best_params_)\n",
    "\n",
    "# Get the best estimator\n",
    "best_model = grid_pipeline.best_estimator_\n",
    "\n",
    "# Use the best model to predict on the test set\n",
    "y_test_predictions = best_model.predict(X_test)"
   ]
  },
  {
   "cell_type": "code",
   "execution_count": 16,
   "metadata": {},
   "outputs": [
    {
     "data": {
      "text/plain": [
       "np.float64(46355.447972690956)"
      ]
     },
     "execution_count": 16,
     "metadata": {},
     "output_type": "execute_result"
    }
   ],
   "source": [
    "from sklearn.metrics import mean_squared_error\n",
    "\n",
    "np.sqrt(mean_squared_error(y_test, y_test_predictions))"
   ]
  },
  {
   "cell_type": "code",
   "execution_count": 17,
   "metadata": {},
   "outputs": [
    {
     "data": {
      "text/plain": [
       "array([44376.88594731, 48252.94920642])"
      ]
     },
     "execution_count": 17,
     "metadata": {},
     "output_type": "execute_result"
    }
   ],
   "source": [
    "from scipy import stats\n",
    "\n",
    "confidence = 0.95\n",
    "squared_errors = (y_test_predictions - y_test) ** 2\n",
    "np.sqrt(\n",
    "    stats.t.interval(\n",
    "        confidence,\n",
    "        len(squared_errors) - 1,\n",
    "        loc=squared_errors.mean(),\n",
    "        scale=stats.sem(squared_errors),\n",
    "    )\n",
    ")"
   ]
  },
  {
   "cell_type": "code",
   "execution_count": 20,
   "metadata": {},
   "outputs": [
    {
     "name": "stdout",
     "output_type": "stream",
     "text": [
      "95% confidence interval for RMSE: (44593.45023549449, 48202.11622749927)\n"
     ]
    }
   ],
   "source": [
    "import numpy as np\n",
    "\n",
    "n_bootstraps = 1000\n",
    "bootstrap_rmses = []\n",
    "\n",
    "for _ in range(n_bootstraps):\n",
    "    bootstrap_indices = np.random.choice(\n",
    "        range(len(y_test)), size=len(y_test), replace=True\n",
    "    )\n",
    "    bootstrap_predictions = y_test_predictions[bootstrap_indices]\n",
    "    bootstrap_actuals = y_test.iloc[bootstrap_indices]\n",
    "    bootstrap_rmse = np.sqrt(np.mean((bootstrap_predictions - bootstrap_actuals) ** 2))\n",
    "    bootstrap_rmses.append(bootstrap_rmse)\n",
    "\n",
    "# Calculate the confidence interval\n",
    "lower_bound = np.percentile(bootstrap_rmses, 2.5)\n",
    "upper_bound = np.percentile(bootstrap_rmses, 97.5)\n",
    "\n",
    "print(f\"95% confidence interval for RMSE: ({lower_bound}, {upper_bound})\")"
   ]
  }
 ],
 "metadata": {
  "kernelspec": {
   "display_name": ".venv",
   "language": "python",
   "name": "python3"
  },
  "language_info": {
   "codemirror_mode": {
    "name": "ipython",
    "version": 3
   },
   "file_extension": ".py",
   "mimetype": "text/x-python",
   "name": "python",
   "nbconvert_exporter": "python",
   "pygments_lexer": "ipython3",
   "version": "3.12.5"
  }
 },
 "nbformat": 4,
 "nbformat_minor": 2
}
